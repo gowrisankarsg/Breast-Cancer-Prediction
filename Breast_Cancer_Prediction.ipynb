{
 "cells": [
  {
   "cell_type": "code",
   "execution_count": 1,
   "id": "da24cd74-d1be-4caa-acb4-5584354edfe9",
   "metadata": {},
   "outputs": [],
   "source": [
    "import pandas as pd\n",
    "import numpy as np\n",
    "from sklearn.datasets import load_breast_cancer\n",
    "from sklearn.preprocessing import StandardScaler\n",
    "import torch\n",
    "import torch.nn as nn\n",
    "from torch.nn import functional as F\n",
    "from torch.optim import Adam, SGD, RMSprop\n",
    "import warnings\n",
    "warnings.filterwarnings('ignore')\n",
    "from sklearn.model_selection import train_test_split\n",
    "# import os\n",
    "# os.environ['CUDA_LAUNCH_BLOCKING'] = '1'"
   ]
  },
  {
   "cell_type": "code",
   "execution_count": 2,
   "id": "7cf40934-c9a1-4b54-8f19-6f433be6b7b1",
   "metadata": {},
   "outputs": [],
   "source": [
    "data = load_breast_cancer()\n",
    "x = data.data\n",
    "y = data.target"
   ]
  },
  {
   "cell_type": "code",
   "execution_count": 5,
   "id": "67ad7aa8-2cce-4bbc-92f5-4c617e4fc991",
   "metadata": {},
   "outputs": [
    {
     "data": {
      "text/plain": [
       "array([[0],\n",
       "       [0],\n",
       "       [0],\n",
       "       [0],\n",
       "       [0]])"
      ]
     },
     "execution_count": 5,
     "metadata": {},
     "output_type": "execute_result"
    }
   ],
   "source": [
    "y[:5].reshape(-1,1)"
   ]
  },
  {
   "cell_type": "code",
   "execution_count": 7,
   "id": "d6e1c7e7",
   "metadata": {},
   "outputs": [],
   "source": [
    "xtrain,xtest,ytrain,ytest = train_test_split(x,y,test_size=0.2,random_state=42)"
   ]
  },
  {
   "cell_type": "code",
   "execution_count": 9,
   "id": "5cf8e55a",
   "metadata": {},
   "outputs": [],
   "source": [
    "scal = StandardScaler()\n",
    "xtrain = scal.fit_transform(xtrain)\n",
    "xtest = scal.transform(xtest)"
   ]
  },
  {
   "cell_type": "code",
   "execution_count": 11,
   "id": "623b70b9-19e4-48fb-baef-62e0cd529294",
   "metadata": {},
   "outputs": [
    {
     "data": {
      "text/plain": [
       "'cuda'"
      ]
     },
     "execution_count": 11,
     "metadata": {},
     "output_type": "execute_result"
    }
   ],
   "source": [
    "device = 'cuda' if torch.cuda.is_available() else 'cpu'\n",
    "device"
   ]
  },
  {
   "cell_type": "code",
   "execution_count": 13,
   "id": "bc1f9bb1-23bc-415f-91b9-a80b21359378",
   "metadata": {},
   "outputs": [],
   "source": [
    "xtrain = torch.tensor(xtrain,dtype=torch.float32).to(device)\n",
    "xtest = torch.tensor(xtest,dtype=torch.float32).to(device)\n",
    "ytrain = torch.tensor(ytrain,dtype=torch.float32).to(device)\n",
    "ytest = torch.tensor(ytest,dtype=torch.float32).to(device)"
   ]
  },
  {
   "cell_type": "code",
   "execution_count": 15,
   "id": "fc7c76b4-a1f6-4c2e-9b48-e1386df890df",
   "metadata": {},
   "outputs": [],
   "source": [
    "class NeuralNet(nn.Module):\n",
    "    def __init__(self,input_size,hidden_size,output_size):\n",
    "        super(NeuralNet,self).__init__()\n",
    "        self.fc1 = nn.Linear(input_size,hidden_size)\n",
    "        self.relu = nn.ReLU()\n",
    "        self.fc2 = nn.Linear(hidden_size,output_size)        \n",
    "        self.act = nn.Sigmoid()\n",
    "\n",
    "    def forward(self,x):\n",
    "        out = self.relu(self.fc1(x))\n",
    "        out = self.relu(out)\n",
    "        out = self.fc2(out)\n",
    "        out = self.act(out)\n",
    "        return out"
   ]
  },
  {
   "cell_type": "code",
   "execution_count": 52,
   "id": "5eced93d",
   "metadata": {},
   "outputs": [],
   "source": [
    "input_size = xtrain.shape[1]\n",
    "hidden_size = 64\n",
    "output_size = 1\n",
    "lr = 0.0001\n",
    "epochs = 100"
   ]
  },
  {
   "cell_type": "code",
   "execution_count": 38,
   "id": "5e3907fc-4e74-423b-b8a9-01457bcde019",
   "metadata": {},
   "outputs": [],
   "source": [
    "model = NeuralNet(input_size,hidden_size,output_size).to(device)"
   ]
  },
  {
   "cell_type": "code",
   "execution_count": null,
   "id": "66444748-ca7c-43cb-9b52-8555453e16ca",
   "metadata": {},
   "outputs": [],
   "source": [
    "out = model(input)\n",
    "out.view(-1).round().size()"
   ]
  },
  {
   "cell_type": "code",
   "execution_count": 54,
   "id": "d2052005-3653-42e0-b80d-e6b17d3d671b",
   "metadata": {},
   "outputs": [],
   "source": [
    "optimizer = Adam(model.parameters(),lr=lr)\n",
    "criterion = F.binary_cross_entropy#_with_logits"
   ]
  },
  {
   "cell_type": "code",
   "execution_count": 60,
   "id": "8d0f0d55-6b12-40a1-a0b2-ed61fc2d3d9b",
   "metadata": {},
   "outputs": [
    {
     "name": "stdout",
     "output_type": "stream",
     "text": [
      "Epoch 0/100 loss : 0.4049 accuracy : 93.85\n",
      "Epoch 10/100 loss : 0.3950 accuracy : 94.29\n",
      "Epoch 20/100 loss : 0.3855 accuracy : 94.07\n",
      "Epoch 30/100 loss : 0.3762 accuracy : 94.07\n",
      "Epoch 40/100 loss : 0.3672 accuracy : 94.07\n",
      "Epoch 50/100 loss : 0.3586 accuracy : 94.07\n",
      "Epoch 60/100 loss : 0.3502 accuracy : 94.07\n",
      "Epoch 70/100 loss : 0.3421 accuracy : 94.07\n",
      "Epoch 80/100 loss : 0.3342 accuracy : 94.07\n",
      "Epoch 90/100 loss : 0.3266 accuracy : 94.51\n"
     ]
    }
   ],
   "source": [
    "for i in range(epochs):\n",
    "    model.train()\n",
    "    optimizer.zero_grad()\n",
    "    out = model(xtrain)    \n",
    "    loss = criterion(out,ytrain.view(-1,1))\n",
    "    loss.backward()\n",
    "    optimizer.step()\n",
    "    with torch.no_grad():\n",
    "        pred = out.round()\n",
    "        correct = (pred == ytrain.view(-1,1)).sum().item()\n",
    "        accuracy = 100 * correct/ytrain.shape[0]\n",
    "    if i % 10 == 0:\n",
    "        print(f\"Epoch {i}/{100} loss : {loss.item():.4f} accuracy : {accuracy:.2f}\")"
   ]
  },
  {
   "cell_type": "code",
   "execution_count": 62,
   "id": "05ac1a05-be64-4417-be03-2f5537a040e5",
   "metadata": {},
   "outputs": [
    {
     "name": "stdout",
     "output_type": "stream",
     "text": [
      "correct : 111/114 , accuracy : 97.37\n"
     ]
    }
   ],
   "source": [
    "pred = model(xtest)\n",
    "pred = pred.round()\n",
    "correct = (pred == ytest.view(-1,1)).sum().item()\n",
    "accuracy = 100 * correct/ytest.shape[0]\n",
    "print(f\"correct : {correct}/{ytest.shape[0]} , accuracy : {accuracy:.2f}\")"
   ]
  },
  {
   "cell_type": "code",
   "execution_count": 49,
   "id": "f901d151-18c2-4952-b5c0-abc7c4a34cc5",
   "metadata": {},
   "outputs": [
    {
     "name": "stdout",
     "output_type": "stream",
     "text": [
      "Predicted : 0.0\n",
      "Original : 0.0\n"
     ]
    }
   ],
   "source": [
    "index = 15\n",
    "out = model(xtest[index])\n",
    "original = ytest[index]\n",
    "print(f\"Predicted : {out[0]:.1f}\")\n",
    "print(f\"Original : {original}\")"
   ]
  },
  {
   "cell_type": "code",
   "execution_count": null,
   "id": "9afcc312-9289-40a2-92e2-cf39a45841d8",
   "metadata": {},
   "outputs": [],
   "source": []
  },
  {
   "cell_type": "code",
   "execution_count": null,
   "id": "356c57ad-89c0-4cf8-b1a2-e55a99701d17",
   "metadata": {},
   "outputs": [],
   "source": []
  },
  {
   "cell_type": "code",
   "execution_count": null,
   "id": "dbb64122-401d-4c87-a9e5-437b446e3192",
   "metadata": {},
   "outputs": [],
   "source": []
  },
  {
   "cell_type": "code",
   "execution_count": null,
   "id": "753898f6-5d95-4ac4-a362-bb5044029591",
   "metadata": {},
   "outputs": [],
   "source": []
  },
  {
   "cell_type": "code",
   "execution_count": null,
   "id": "708b0ab0-50e1-4b78-a2a0-8a564fb6a961",
   "metadata": {},
   "outputs": [],
   "source": []
  },
  {
   "cell_type": "code",
   "execution_count": null,
   "id": "0db5b1d0-2900-4a89-bd13-21407a28408d",
   "metadata": {},
   "outputs": [],
   "source": []
  }
 ],
 "metadata": {
  "kernelspec": {
   "display_name": "PyTorch Env",
   "language": "python",
   "name": "pytorch-env"
  },
  "language_info": {
   "codemirror_mode": {
    "name": "ipython",
    "version": 3
   },
   "file_extension": ".py",
   "mimetype": "text/x-python",
   "name": "python",
   "nbconvert_exporter": "python",
   "pygments_lexer": "ipython3",
   "version": "3.11.10"
  }
 },
 "nbformat": 4,
 "nbformat_minor": 5
}
